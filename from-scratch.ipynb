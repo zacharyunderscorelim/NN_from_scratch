{
 "cells": [
  {
   "cell_type": "code",
   "execution_count": 1,
   "metadata": {
    "_cell_guid": "b1076dfc-b9ad-4769-8c92-a6c4dae69d19",
    "_uuid": "8f2839f25d086af736a60e9eeb907d3b93b6e0e5",
    "execution": {
     "iopub.execute_input": "2025-01-05T13:24:05.010206Z",
     "iopub.status.busy": "2025-01-05T13:24:05.009237Z",
     "iopub.status.idle": "2025-01-05T13:24:05.019213Z",
     "shell.execute_reply": "2025-01-05T13:24:05.018073Z",
     "shell.execute_reply.started": "2025-01-05T13:24:05.010165Z"
    },
    "trusted": true
   },
   "outputs": [],
   "source": [
    "import numpy as np # linear algebra\n",
    "import pandas as pd # data processing, CSV file I/O (e.g. pd.read_csv)\n",
    "\n",
    "\n",
    "import os\n",
    "for dirname, _, filenames in os.walk('/kaggle/input'):\n",
    "    for filename in filenames:\n",
    "        print(os.path.join(dirname, filename))\n"
   ]
  },
  {
   "cell_type": "code",
   "execution_count": 3,
   "metadata": {
    "execution": {
     "iopub.execute_input": "2025-01-05T13:24:06.672891Z",
     "iopub.status.busy": "2025-01-05T13:24:06.672511Z",
     "iopub.status.idle": "2025-01-05T13:24:09.703756Z",
     "shell.execute_reply": "2025-01-05T13:24:09.702612Z",
     "shell.execute_reply.started": "2025-01-05T13:24:06.672851Z"
    },
    "trusted": true
   },
   "outputs": [
    {
     "name": "stdout",
     "output_type": "stream",
     "text": [
      "(784, 42000)\n",
      "(42000,)\n",
      "(784, 41200) [8 5 4 ... 2 1 3]\n"
     ]
    }
   ],
   "source": [
    "root = \"C:/Users/Zachary/Desktop/coding/NN_from_scratch/\"\n",
    "train_df = pd.read_csv(root + \"train.csv\")\n",
    "\n",
    "data = np.array(train_df)\n",
    "np.random.shuffle(data)\n",
    "data = data.T\n",
    "X = data[1:]\n",
    "X = X/255.\n",
    "Y = data[0]\n",
    "print(X.shape)\n",
    "print(Y.shape)\n",
    "\n",
    "val_X = X[:,:800]\n",
    "val_Y = Y[:800]\n",
    "train_X = X[:,800:]\n",
    "train_Y = Y[800:]\n",
    "k = 41200\n",
    "print(train_X.shape, train_Y)"
   ]
  },
  {
   "cell_type": "code",
   "execution_count": 4,
   "metadata": {
    "execution": {
     "iopub.execute_input": "2025-01-05T14:14:31.385589Z",
     "iopub.status.busy": "2025-01-05T14:14:31.384658Z",
     "iopub.status.idle": "2025-01-05T14:14:31.396307Z",
     "shell.execute_reply": "2025-01-05T14:14:31.395298Z",
     "shell.execute_reply.started": "2025-01-05T14:14:31.385550Z"
    },
    "trusted": true
   },
   "outputs": [],
   "source": [
    "def OHE(Y):\n",
    "    Y_OHE = np.zeros((Y.size, 10)) #k rows, 10 columns\n",
    "    for i in range (Y.size):\n",
    "        dist = np.zeros(10)\n",
    "        dist[Y[i]] = 1\n",
    "        Y_OHE[i] = dist\n",
    "    Y_OHE = Y_OHE.T #k columns(data), 10 rows(labels)\n",
    "    return Y_OHE\n",
    "#IE: 3 ==> [0, 0, 0, 1, 0, 0, 0, 0, 0, 0].\n",
    "\n",
    "\n",
    "def init():\n",
    "    w1 = np.random.rand(10, 784) - 0.5 #-0.5 to create random value from -0.5 to 0.5\n",
    "    b1 = np.random.rand(10, 1) -0.5\n",
    "    #result of dot pdt: (10, 1)\n",
    "    w2 = np.random.rand(10, 10) - 0.5\n",
    "    b2 = np.random.rand(10, 1) - 0.5\n",
    "    return(w1, b1, w2, b2)\n",
    "\n",
    "def reLU(Z): #(10, k)\n",
    "    return Z * (Z>0)\n",
    "\n",
    "def softmax(Z):\n",
    "    return np.exp(Z)/sum(np.exp(Z))\n",
    "\n",
    "def fwd_prop(X, w1, b1, w2, b2): \n",
    "    Z1 = w1.dot(X) + b1 #(10, k)\n",
    "    A1 = reLU(Z1) #(10, k)\n",
    "    Z2 = w2.dot(A1) + b2 #(10, k)\n",
    "    Out = softmax(Z2) #(10, k)\n",
    "    return Z1, A1, Z2, Out\n",
    "\n",
    "def deriv_reLU(Z): #deriv wrt Z = 0 when Z <= 0, 1 when Z > 0\n",
    "    return Z>0\n",
    "\n",
    "def back_prop(Z1, A1, Z2, Out, w1, w2, X, Y): \n",
    "    Y_OHE = OHE(Y)\n",
    "    #main goal: differentiate cost with respect to weights\n",
    "    #chain rule: dC/dw2 = dZ2/dw2 * dCdZ2\n",
    "\n",
    "    dZ2 = Out - Y_OHE\n",
    "    dw2 = 1 / k * np.dot(dZ2, A1.T)# (10, 10)\n",
    "    db2 = 1 / k * np.sum(dZ2)\n",
    "\n",
    "    dZ1 = np.dot(w2.T, dZ2) * deriv_reLU(Z1)\n",
    "    dw1 = 1 / k * np.dot(dZ1, X.T) #(10, 784)\n",
    "    db1 = 1 / k * np.sum(dZ1)\n",
    "\n",
    "    return dw1, db1, dw2, db2\n",
    "\n",
    "def update_weights(w1, b1, w2, b2, dw1, db1, dw2, db2, lr):\n",
    "    w1 = w1 - lr*dw1\n",
    "    w2 = w2 - lr*dw2\n",
    "    b1 = b1 - lr*db1\n",
    "    b2 = b2 - lr*db2\n",
    "    return w1, b1, w2, b2"
   ]
  },
  {
   "cell_type": "code",
   "execution_count": 5,
   "metadata": {
    "execution": {
     "iopub.execute_input": "2025-01-05T14:14:33.368874Z",
     "iopub.status.busy": "2025-01-05T14:14:33.368102Z",
     "iopub.status.idle": "2025-01-05T14:14:33.375849Z",
     "shell.execute_reply": "2025-01-05T14:14:33.374703Z",
     "shell.execute_reply.started": "2025-01-05T14:14:33.368832Z"
    },
    "trusted": true
   },
   "outputs": [],
   "source": [
    "def get_accuracy(predictions, Y):\n",
    "    return np.sum(predictions == Y) / Y.size\n",
    "\n",
    "def predict(Out):\n",
    "    return np.argmax(Out, 0)\n",
    "\n",
    "def train(X, Y, lr, epochs):\n",
    "    W1, b1, W2, b2 = init()\n",
    "    for i in range(epochs):\n",
    "        Z1, A1, Z2, Out = fwd_prop(X, W1, b1, W2, b2)\n",
    "        dW1, db1, dW2, db2 = back_prop(Z1, A1, Z2, Out, W1, W2, X, Y)\n",
    "        W1, b1, W2, b2 = update_weights(W1, b1, W2, b2, dW1, db1, dW2, db2, lr)\n",
    "        if i % 10 == 0:\n",
    "            print(\"Epoch: \", i)\n",
    "            predictions = predict(Out)\n",
    "            print(get_accuracy(predictions, Y))\n",
    "    return W1, b1, W2, b2"
   ]
  },
  {
   "cell_type": "code",
   "execution_count": 6,
   "metadata": {
    "execution": {
     "iopub.execute_input": "2025-01-05T14:14:35.420561Z",
     "iopub.status.busy": "2025-01-05T14:14:35.420201Z",
     "iopub.status.idle": "2025-01-05T14:18:30.432344Z",
     "shell.execute_reply": "2025-01-05T14:18:30.431283Z",
     "shell.execute_reply.started": "2025-01-05T14:14:35.420529Z"
    },
    "trusted": true
   },
   "outputs": [
    {
     "name": "stdout",
     "output_type": "stream",
     "text": [
      "41200\n",
      "Epoch:  0\n",
      "0.15487864077669902\n",
      "Epoch:  10\n",
      "0.23116504854368933\n",
      "Epoch:  20\n",
      "0.31679611650485434\n",
      "Epoch:  30\n",
      "0.3944660194174757\n",
      "Epoch:  40\n",
      "0.4563349514563107\n",
      "Epoch:  50\n",
      "0.5062378640776699\n",
      "Epoch:  60\n",
      "0.5448300970873786\n",
      "Epoch:  70\n",
      "0.5763106796116505\n",
      "Epoch:  80\n",
      "0.6028155339805825\n",
      "Epoch:  90\n",
      "0.6255825242718447\n",
      "Epoch:  100\n",
      "0.6448543689320388\n",
      "Epoch:  110\n",
      "0.660242718446602\n",
      "Epoch:  120\n",
      "0.6747330097087378\n",
      "Epoch:  130\n",
      "0.6870388349514563\n",
      "Epoch:  140\n",
      "0.698252427184466\n",
      "Epoch:  150\n",
      "0.7086407766990291\n",
      "Epoch:  160\n",
      "0.717378640776699\n",
      "Epoch:  170\n",
      "0.7265048543689321\n",
      "Epoch:  180\n",
      "0.7338834951456311\n",
      "Epoch:  190\n",
      "0.7409466019417476\n",
      "Epoch:  200\n",
      "0.7472087378640777\n",
      "Epoch:  210\n",
      "0.7529611650485437\n",
      "Epoch:  220\n",
      "0.7585679611650485\n",
      "Epoch:  230\n",
      "0.763883495145631\n",
      "Epoch:  240\n",
      "0.7687864077669903\n",
      "Epoch:  250\n",
      "0.7734466019417475\n",
      "Epoch:  260\n",
      "0.7774757281553398\n",
      "Epoch:  270\n",
      "0.781626213592233\n",
      "Epoch:  280\n",
      "0.7856553398058252\n",
      "Epoch:  290\n",
      "0.7893203883495146\n",
      "Epoch:  300\n",
      "0.7929611650485436\n",
      "Epoch:  310\n",
      "0.7959223300970873\n",
      "Epoch:  320\n",
      "0.7993446601941747\n",
      "Epoch:  330\n",
      "0.8027669902912621\n",
      "Epoch:  340\n",
      "0.8065776699029126\n",
      "Epoch:  350\n",
      "0.809368932038835\n",
      "Epoch:  360\n",
      "0.8130582524271844\n",
      "Epoch:  370\n",
      "0.8159223300970874\n",
      "Epoch:  380\n",
      "0.8186650485436893\n",
      "Epoch:  390\n",
      "0.8216990291262136\n",
      "Epoch:  400\n",
      "0.824004854368932\n",
      "Epoch:  410\n",
      "0.8264563106796117\n",
      "Epoch:  420\n",
      "0.8291504854368932\n",
      "Epoch:  430\n",
      "0.8313106796116505\n",
      "Epoch:  440\n",
      "0.8334223300970873\n",
      "Epoch:  450\n",
      "0.835121359223301\n",
      "Epoch:  460\n",
      "0.836990291262136\n",
      "Epoch:  470\n",
      "0.839126213592233\n",
      "Epoch:  480\n",
      "0.8411407766990291\n",
      "Epoch:  490\n",
      "0.8433495145631068\n"
     ]
    }
   ],
   "source": [
    "print(k)\n",
    "w1, b1, w2, b2 = train(train_X, train_Y, 0.1, 500)"
   ]
  },
  {
   "cell_type": "code",
   "execution_count": 7,
   "metadata": {
    "execution": {
     "iopub.execute_input": "2025-01-05T14:19:45.576237Z",
     "iopub.status.busy": "2025-01-05T14:19:45.575372Z",
     "iopub.status.idle": "2025-01-05T14:19:45.581643Z",
     "shell.execute_reply": "2025-01-05T14:19:45.580684Z",
     "shell.execute_reply.started": "2025-01-05T14:19:45.576186Z"
    },
    "trusted": true
   },
   "outputs": [],
   "source": [
    "def predict_unlabelled(X, w1, b1, w2, b2):\n",
    "    _, _, _, Out = fwd_prop(X, w1, b1, w2, b2) #(10, k)\n",
    "    preds = np.argmax(Out, 0)\n",
    "    return preds"
   ]
  },
  {
   "cell_type": "code",
   "execution_count": 8,
   "metadata": {
    "execution": {
     "iopub.execute_input": "2025-01-05T14:19:23.991281Z",
     "iopub.status.busy": "2025-01-05T14:19:23.990463Z",
     "iopub.status.idle": "2025-01-05T14:19:25.573864Z",
     "shell.execute_reply": "2025-01-05T14:19:25.572686Z",
     "shell.execute_reply.started": "2025-01-05T14:19:23.991240Z"
    },
    "trusted": true
   },
   "outputs": [
    {
     "name": "stdout",
     "output_type": "stream",
     "text": [
      "(784, 28000)\n"
     ]
    }
   ],
   "source": [
    "test_df = pd.read_csv(root + \"test.csv\")\n",
    "test_X = np.array(test_df).T\n",
    "test_X = test_X/255.\n",
    "print(test_X.shape)"
   ]
  },
  {
   "cell_type": "code",
   "execution_count": 9,
   "metadata": {
    "execution": {
     "iopub.execute_input": "2025-01-05T14:19:47.160662Z",
     "iopub.status.busy": "2025-01-05T14:19:47.159634Z",
     "iopub.status.idle": "2025-01-05T14:19:47.243724Z",
     "shell.execute_reply": "2025-01-05T14:19:47.242029Z",
     "shell.execute_reply.started": "2025-01-05T14:19:47.160608Z"
    },
    "trusted": true
   },
   "outputs": [
    {
     "name": "stdout",
     "output_type": "stream",
     "text": [
      "[2 0 4 ... 3 9 2]\n"
     ]
    }
   ],
   "source": [
    "test_preds = predict_unlabelled(test_X, w1, b1, w2, b2)\n",
    "print(test_preds)"
   ]
  }
 ],
 "metadata": {
  "kaggle": {
   "accelerator": "none",
   "dataSources": [
    {
     "databundleVersionId": 861823,
     "sourceId": 3004,
     "sourceType": "competition"
    }
   ],
   "dockerImageVersionId": 30786,
   "isGpuEnabled": false,
   "isInternetEnabled": true,
   "language": "python",
   "sourceType": "notebook"
  },
  "kernelspec": {
   "display_name": "env",
   "language": "python",
   "name": "python3"
  },
  "language_info": {
   "codemirror_mode": {
    "name": "ipython",
    "version": 3
   },
   "file_extension": ".py",
   "mimetype": "text/x-python",
   "name": "python",
   "nbconvert_exporter": "python",
   "pygments_lexer": "ipython3",
   "version": "3.12.8"
  }
 },
 "nbformat": 4,
 "nbformat_minor": 4
}
